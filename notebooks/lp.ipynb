{
 "cells": [
  {
   "cell_type": "code",
   "execution_count": 1,
   "id": "24630a6e",
   "metadata": {},
   "outputs": [],
   "source": [
    "from ortools.math_opt.python import mathopt\n"
   ]
  },
  {
   "cell_type": "code",
   "execution_count": 6,
   "id": "cd2d60f6",
   "metadata": {},
   "outputs": [
    {
     "name": "stdout",
     "output_type": "stream",
     "text": [
      "LP   getting_started_lp has 1 rows; 2 cols; 2 nonzeros\n",
      "Coefficient ranges:\n",
      "  Matrix [1e+00, 1e+00]\n",
      "  Cost   [1e+00, 2e+00]\n",
      "  Bound  [1e+00, 2e+00]\n",
      "  RHS    [2e+00, 2e+00]\n",
      "Presolving model\n",
      "1 rows, 2 cols, 2 nonzeros  0s\n",
      "0 rows, 0 cols, 0 nonzeros  0s\n",
      "Presolve : Reductions: rows 0(-1); columns 0(-2); elements 0(-2) - Reduced to empty\n",
      "Solving the original LP from the solution after postsolve\n",
      "Model name          : getting_started_lp\n",
      "Model status        : Optimal\n",
      "Objective value     :  2.5000000000e+00\n",
      "P-D objective error :  0.0000000000e+00\n",
      "HiGHS run time      :          0.01\n"
     ]
    }
   ],
   "source": [
    "model = mathopt.Model(name=\"getting_started_lp\")\n",
    "x = model.add_variable(lb=-1.0, ub=1.5, name=\"x\")\n",
    "y = model.add_variable(lb=0.0, ub=1.0, name=\"y\")\n",
    "model.add_linear_constraint(x + y <= 1.5)\n",
    "model.maximize(x + 2 * y)\n",
    "params = mathopt.SolveParameters(enable_output=True)\n",
    "result = mathopt.solve(model, mathopt.SolverType.HIGHS, params=params)\n"
   ]
  },
  {
   "cell_type": "code",
   "execution_count": null,
   "id": "bb96640b",
   "metadata": {},
   "outputs": [
    {
     "ename": "AttributeError",
     "evalue": "'StatusNotOk' object has no attribute 'canonical_code'",
     "output_type": "error",
     "traceback": [
      "\u001b[31m---------------------------------------------------------------------------\u001b[39m",
      "\u001b[31mStatusNotOk\u001b[39m                               Traceback (most recent call last)",
      "\u001b[36mFile \u001b[39m\u001b[32m~/development/or_research/.venv/lib/python3.12/site-packages/ortools/math_opt/python/solve.py:85\u001b[39m, in \u001b[36msolve\u001b[39m\u001b[34m(opt_model, solver_type, params, model_params, msg_cb, callback_reg, cb, streamable_init_args)\u001b[39m\n\u001b[32m     84\u001b[39m \u001b[38;5;28;01mtry\u001b[39;00m:\n\u001b[32m---> \u001b[39m\u001b[32m85\u001b[39m     proto_result = \u001b[43msolver\u001b[49m\u001b[43m.\u001b[49m\u001b[43msolve\u001b[49m\u001b[43m(\u001b[49m\n\u001b[32m     86\u001b[39m \u001b[43m        \u001b[49m\u001b[43mmodel_proto\u001b[49m\u001b[43m,\u001b[49m\n\u001b[32m     87\u001b[39m \u001b[43m        \u001b[49m\u001b[43msolver_type\u001b[49m\u001b[43m.\u001b[49m\u001b[43mvalue\u001b[49m\u001b[43m,\u001b[49m\n\u001b[32m     88\u001b[39m \u001b[43m        \u001b[49m\u001b[43mstreamable_init_args\u001b[49m\u001b[43m.\u001b[49m\u001b[43mto_proto\u001b[49m\u001b[43m(\u001b[49m\u001b[43m)\u001b[49m\u001b[43m,\u001b[49m\n\u001b[32m     89\u001b[39m \u001b[43m        \u001b[49m\u001b[43mparams\u001b[49m\u001b[43m.\u001b[49m\u001b[43mto_proto\u001b[49m\u001b[43m(\u001b[49m\u001b[43m)\u001b[49m\u001b[43m,\u001b[49m\n\u001b[32m     90\u001b[39m \u001b[43m        \u001b[49m\u001b[43mmodel_params\u001b[49m\u001b[43m.\u001b[49m\u001b[43mto_proto\u001b[49m\u001b[43m(\u001b[49m\u001b[43m)\u001b[49m\u001b[43m,\u001b[49m\n\u001b[32m     91\u001b[39m \u001b[43m        \u001b[49m\u001b[43mmsg_cb\u001b[49m\u001b[43m,\u001b[49m\n\u001b[32m     92\u001b[39m \u001b[43m        \u001b[49m\u001b[43mcallback_reg\u001b[49m\u001b[43m.\u001b[49m\u001b[43mto_proto\u001b[49m\u001b[43m(\u001b[49m\u001b[43m)\u001b[49m\u001b[43m,\u001b[49m\n\u001b[32m     93\u001b[39m \u001b[43m        \u001b[49m\u001b[43mproto_cb\u001b[49m\u001b[43m,\u001b[49m\n\u001b[32m     94\u001b[39m \u001b[43m        \u001b[49m\u001b[38;5;28;43;01mNone\u001b[39;49;00m\u001b[43m,\u001b[49m\n\u001b[32m     95\u001b[39m \u001b[43m    \u001b[49m\u001b[43m)\u001b[49m\n\u001b[32m     96\u001b[39m \u001b[38;5;28;01mexcept\u001b[39;00m StatusNotOk \u001b[38;5;28;01mas\u001b[39;00m e:\n",
      "\u001b[31mStatusNotOk\u001b[39m: solver type SOLVER_TYPE_SCS is not registered, support for this solver has not been compiled [INVALID_ARGUMENT]",
      "\nDuring handling of the above exception, another exception occurred:\n",
      "\u001b[31mAttributeError\u001b[39m                            Traceback (most recent call last)",
      "\u001b[36mCell\u001b[39m\u001b[36m \u001b[39m\u001b[32mIn[24]\u001b[39m\u001b[32m, line 15\u001b[39m\n\u001b[32m     11\u001b[39m model.add_linear_constraint(x2 <=\u001b[32m6\u001b[39m)\n\u001b[32m     14\u001b[39m params = mathopt.SolveParameters(enable_output=\u001b[38;5;28;01mTrue\u001b[39;00m)\n\u001b[32m---> \u001b[39m\u001b[32m15\u001b[39m result = \u001b[43mmathopt\u001b[49m\u001b[43m.\u001b[49m\u001b[43msolve\u001b[49m\u001b[43m(\u001b[49m\u001b[43mmodel\u001b[49m\u001b[43m,\u001b[49m\u001b[43m \u001b[49m\u001b[43mmathopt\u001b[49m\u001b[43m.\u001b[49m\u001b[43mSolverType\u001b[49m\u001b[43m.\u001b[49m\u001b[43mSCS\u001b[49m\u001b[43m,\u001b[49m\u001b[43m \u001b[49m\u001b[43mparams\u001b[49m\u001b[43m=\u001b[49m\u001b[43mparams\u001b[49m\u001b[43m)\u001b[49m\n\u001b[32m     16\u001b[39m \u001b[38;5;66;03m# result = mathopt.solve(model, mathopt.SolverType.PDLP, params=params)\u001b[39;00m\n\u001b[32m     17\u001b[39m \u001b[38;5;66;03m# result = mathopt.solve(model, mathopt.SolverType.GSCIP, params=params) # non linear\u001b[39;00m\n\u001b[32m     18\u001b[39m \u001b[38;5;66;03m# result = mathopt.solve(model, mathopt.SolverType.HIGHS, params=params) # linear only\u001b[39;00m\n",
      "\u001b[36mFile \u001b[39m\u001b[32m~/development/or_research/.venv/lib/python3.12/site-packages/ortools/math_opt/python/solve.py:97\u001b[39m, in \u001b[36msolve\u001b[39m\u001b[34m(opt_model, solver_type, params, model_params, msg_cb, callback_reg, cb, streamable_init_args)\u001b[39m\n\u001b[32m     85\u001b[39m     proto_result = solver.solve(\n\u001b[32m     86\u001b[39m         model_proto,\n\u001b[32m     87\u001b[39m         solver_type.value,\n\u001b[32m   (...)\u001b[39m\u001b[32m     94\u001b[39m         \u001b[38;5;28;01mNone\u001b[39;00m,\n\u001b[32m     95\u001b[39m     )\n\u001b[32m     96\u001b[39m \u001b[38;5;28;01mexcept\u001b[39;00m StatusNotOk \u001b[38;5;28;01mas\u001b[39;00m e:\n\u001b[32m---> \u001b[39m\u001b[32m97\u001b[39m     \u001b[38;5;28;01mraise\u001b[39;00m \u001b[43m_status_not_ok_to_exception\u001b[49m\u001b[43m(\u001b[49m\u001b[43me\u001b[49m\u001b[43m)\u001b[49m \u001b[38;5;28;01mfrom\u001b[39;00m\u001b[38;5;250m \u001b[39m\u001b[38;5;28;01mNone\u001b[39;00m\n\u001b[32m     98\u001b[39m \u001b[38;5;28;01mreturn\u001b[39;00m result.parse_solve_result(proto_result, opt_model, validate=\u001b[38;5;28;01mFalse\u001b[39;00m)\n",
      "\u001b[36mFile \u001b[39m\u001b[32m~/development/or_research/.venv/lib/python3.12/site-packages/ortools/math_opt/python/solve.py:307\u001b[39m, in \u001b[36m_status_not_ok_to_exception\u001b[39m\u001b[34m(err)\u001b[39m\n\u001b[32m    297\u001b[39m \u001b[38;5;28;01mdef\u001b[39;00m\u001b[38;5;250m \u001b[39m\u001b[34m_status_not_ok_to_exception\u001b[39m(err: StatusNotOk) -> \u001b[38;5;167;01mException\u001b[39;00m:\n\u001b[32m    298\u001b[39m \u001b[38;5;250m    \u001b[39m\u001b[33;03m\"\"\"Converts a StatusNotOk to the best matching Python exception.\u001b[39;00m\n\u001b[32m    299\u001b[39m \n\u001b[32m    300\u001b[39m \u001b[33;03m    Args:\u001b[39;00m\n\u001b[32m   (...)\u001b[39m\u001b[32m    304\u001b[39m \u001b[33;03m      The corresponding exception.\u001b[39;00m\n\u001b[32m    305\u001b[39m \u001b[33;03m    \"\"\"\u001b[39;00m\n\u001b[32m    306\u001b[39m     ret = errors.status_proto_to_exception(\n\u001b[32m--> \u001b[39m\u001b[32m307\u001b[39m         rpc_pb2.StatusProto(code=\u001b[43merr\u001b[49m\u001b[43m.\u001b[49m\u001b[43mcanonical_code\u001b[49m, message=err.message)\n\u001b[32m    308\u001b[39m     )\n\u001b[32m    309\u001b[39m     \u001b[38;5;66;03m# We never expect StatusNotOk to be OK.\u001b[39;00m\n\u001b[32m    310\u001b[39m     \u001b[38;5;28;01massert\u001b[39;00m ret \u001b[38;5;129;01mis\u001b[39;00m \u001b[38;5;129;01mnot\u001b[39;00m \u001b[38;5;28;01mNone\u001b[39;00m, err\n",
      "\u001b[31mAttributeError\u001b[39m: 'StatusNotOk' object has no attribute 'canonical_code'"
     ]
    }
   ],
   "source": [
    "model = mathopt.Model(name=\"getting_started_lp\")\n",
    "x1 = model.add_variable(lb=0, name=\"x1\")\n",
    "x2 = model.add_variable(lb=0, name=\"x2\")\n",
    "model.minimize(100*x1*x1+ 75 * x2)\n",
    "\n",
    "model.add_linear_constraint(0.3 * x1 + 0.4*x2 >= 2)\n",
    "model.add_linear_constraint(0.4 * x1 + 0.2*x2 >= 1.5)\n",
    "model.add_linear_constraint(0.2 * x1 + 0.3*x2 >= .5)\n",
    "model.add_linear_constraint(x1 <=9)\n",
    "model.add_linear_constraint(x2 <=6)\n",
    "\n",
    "\n",
    "params = mathopt.SolveParameters(enable_output=True)\n",
    "# result = mathopt.solve(model, mathopt.SolverType.PDLP, params=params) # nonlinear\n",
    "# result = mathopt.solve(model, mathopt.SolverType.GSCIP, params=params) # nonlinear\n",
    "# result = mathopt.solve(model, mathopt.SolverType.HIGHS, params=params) # linear only\n"
   ]
  },
  {
   "cell_type": "code",
   "execution_count": null,
   "id": "cc86f2d7",
   "metadata": {},
   "outputs": [],
   "source": [
    "# improving search"
   ]
  }
 ],
 "metadata": {
  "kernelspec": {
   "display_name": "or-research",
   "language": "python",
   "name": "python3"
  },
  "language_info": {
   "codemirror_mode": {
    "name": "ipython",
    "version": 3
   },
   "file_extension": ".py",
   "mimetype": "text/x-python",
   "name": "python",
   "nbconvert_exporter": "python",
   "pygments_lexer": "ipython3",
   "version": "3.12.10"
  }
 },
 "nbformat": 4,
 "nbformat_minor": 5
}

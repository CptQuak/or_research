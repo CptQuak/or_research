{
 "cells": [
  {
   "cell_type": "code",
   "execution_count": 59,
   "id": "1096bcd3",
   "metadata": {},
   "outputs": [],
   "source": [
    "from ortools.sat.python.cp_model import CpModel, CpSolver\n",
    "import numpy as np\n",
    "\n",
    "sudoku_table = [\n",
    "    [None, 1, None, 7, None, None, None, None, None],\n",
    "    [None, None, 2, None, None, None, None, 7, 8],\n",
    "    [None, 3, 4, None, None, None, None, 6, 1],\n",
    "    [None, None, None, None, None, 2, 9, None, None],\n",
    "    [None, None, None, None, 3, 1, 2, 5, None],\n",
    "    [None, None, None, 5, None, None, 6, None, None],\n",
    "    [9, None, 6, None, None, 7, None, None, 2],\n",
    "    [None, 7, None, None, None, None, None, None, None],\n",
    "    [None, 2, 8, None, 9, None, None, None, None],\n",
    "]"
   ]
  },
  {
   "cell_type": "code",
   "execution_count": 60,
   "id": "fb2517d6",
   "metadata": {},
   "outputs": [],
   "source": [
    "model = CpModel()\n",
    "variables = {}\n",
    "\n",
    "COLUMNS = len(sudoku_table)\n",
    "ROWS = len(sudoku_table[0])\n",
    "\n",
    "for row in range(ROWS):\n",
    "    for col in range(COLUMNS):\n",
    "        variables[row, col] = model.new_int_var(lb=1, ub=9, name=f\"cell_{row}_{col}\")\n",
    "\n",
    "# force initial values\n",
    "for row in range(ROWS):\n",
    "    for col in range(COLUMNS):\n",
    "        cell_value = sudoku_table[row][col]\n",
    "        if cell_value is not None:\n",
    "            model.add(variables[row, col] == cell_value)\n",
    "\n",
    "\n",
    "# column wise different\n",
    "for col in range(COLUMNS):\n",
    "    model.add_all_different([variables[row, col] for row in range(ROWS)])\n",
    "\n",
    "# row wise different\n",
    "for row in range(ROWS):\n",
    "    model.add_all_different([variables[row, col] for col in range(COLUMNS)])\n",
    "\n",
    "# 3x3 all different\n",
    "for row in range(0, ROWS, 3):\n",
    "    for col in range(0, COLUMNS, 3):\n",
    "        three_by_three = list(\n",
    "            (x, y) for x in range(row, row + 3) for y in range(col, col + 3)\n",
    "        )\n",
    "        model.add_all_different([variables[i] for i in three_by_three])\n",
    "\n",
    "model.minimize(0)"
   ]
  },
  {
   "cell_type": "code",
   "execution_count": 61,
   "id": "a018f71e",
   "metadata": {},
   "outputs": [
    {
     "name": "stdout",
     "output_type": "stream",
     "text": [
      "OPTIMAL\n"
     ]
    },
    {
     "data": {
      "text/plain": [
       "array([[8, 1, 5, 7, 6, 3, 4, 2, 9],\n",
       "       [6, 9, 2, 4, 1, 5, 3, 7, 8],\n",
       "       [7, 3, 4, 9, 2, 8, 5, 6, 1],\n",
       "       [3, 5, 1, 6, 7, 2, 9, 8, 4],\n",
       "       [4, 6, 9, 8, 3, 1, 2, 5, 7],\n",
       "       [2, 8, 7, 5, 4, 9, 6, 1, 3],\n",
       "       [9, 4, 6, 1, 5, 7, 8, 3, 2],\n",
       "       [5, 7, 3, 2, 8, 4, 1, 9, 6],\n",
       "       [1, 2, 8, 3, 9, 6, 7, 4, 5]], dtype=object)"
      ]
     },
     "execution_count": 61,
     "metadata": {},
     "output_type": "execute_result"
    }
   ],
   "source": [
    "solver = CpSolver()\n",
    "solver.solve(model)\n",
    "print(solver.status_name())\n",
    "solution = np.zeros_like(sudoku_table)\n",
    "for row in range(ROWS):\n",
    "    for col in range(COLUMNS):\n",
    "        solution[row, col] = solver.value(variables[row, col])\n",
    "\n",
    "solution"
   ]
  }
 ],
 "metadata": {
  "kernelspec": {
   "display_name": "or-research",
   "language": "python",
   "name": "python3"
  },
  "language_info": {
   "codemirror_mode": {
    "name": "ipython",
    "version": 3
   },
   "file_extension": ".py",
   "mimetype": "text/x-python",
   "name": "python",
   "nbconvert_exporter": "python",
   "pygments_lexer": "ipython3",
   "version": "3.12.10"
  }
 },
 "nbformat": 4,
 "nbformat_minor": 5
}
